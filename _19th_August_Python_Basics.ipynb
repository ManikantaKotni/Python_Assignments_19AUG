{
 "cells": [
  {
   "cell_type": "code",
   "execution_count": 16,
   "id": "df02837e-bf2a-45e4-a06f-c664c3c2c70b",
   "metadata": {},
   "outputs": [],
   "source": [
    "# Q1-Declaration of x & y variables without temporary variable "
   ]
  },
  {
   "cell_type": "code",
   "execution_count": 1,
   "id": "9081b6da-dcf9-4052-af0c-2f9b8e336343",
   "metadata": {},
   "outputs": [],
   "source": [
    "x = 5"
   ]
  },
  {
   "cell_type": "code",
   "execution_count": 2,
   "id": "f3592fed-db29-4f85-aba2-965d6b29549c",
   "metadata": {},
   "outputs": [],
   "source": [
    "y = 6"
   ]
  },
  {
   "cell_type": "code",
   "execution_count": 3,
   "id": "0de2f7b1-4427-4ad6-a93f-5e420e4ced5f",
   "metadata": {},
   "outputs": [],
   "source": [
    "x,y = y,x "
   ]
  },
  {
   "cell_type": "code",
   "execution_count": 4,
   "id": "c0163e01-902f-422b-b13c-b63ebde6c45e",
   "metadata": {},
   "outputs": [
    {
     "name": "stdout",
     "output_type": "stream",
     "text": [
      "y equals : 5\n"
     ]
    }
   ],
   "source": [
    "print('y equals :',y)"
   ]
  },
  {
   "cell_type": "code",
   "execution_count": 5,
   "id": "1908855f-d221-4b72-a91d-12b52a05cabd",
   "metadata": {},
   "outputs": [
    {
     "name": "stdout",
     "output_type": "stream",
     "text": [
      "x equals : 6\n"
     ]
    }
   ],
   "source": [
    "print('x equals :' ,x)"
   ]
  },
  {
   "cell_type": "code",
   "execution_count": 6,
   "id": "d23b88a3-5c5d-457c-8d93-cb86be3c5586",
   "metadata": {},
   "outputs": [],
   "source": [
    "#Q2-Area of Triangle "
   ]
  },
  {
   "cell_type": "code",
   "execution_count": 15,
   "id": "18a41a30-7522-4783-8e31-9a16788c4aa9",
   "metadata": {},
   "outputs": [
    {
     "name": "stdin",
     "output_type": "stream",
     "text": [
      "Enter the length of the rectanle:  5.23\n",
      "Enter the width of the rectangle:  2.32\n"
     ]
    },
    {
     "name": "stdout",
     "output_type": "stream",
     "text": [
      "The area of the rectangle with 5.23 Meters and width 2.32 Meters is  12.13 square Meters\n"
     ]
    }
   ],
   "source": [
    "def calculate_rectangle_area(lenght, width):\n",
    "    area = lenght*width\n",
    "    return area \n",
    "\n",
    "#Inputs of l & w \n",
    "length= float(input(\"Enter the length of the rectanle: \"))\n",
    "width= float(input(\"Enter the width of the rectangle: \"))\n",
    "\n",
    "#calculate the area \n",
    "area = calculate_rectangle_area(length, width)\n",
    "\n",
    "#Display the result\n",
    "print(f\"The area of the rectangle with {length} Meters and width {width} Meters is {area: .2f} square Meters\") "
   ]
  },
  {
   "cell_type": "code",
   "execution_count": null,
   "id": "548a7294-bc4e-4de5-bf86-7a31a8255928",
   "metadata": {},
   "outputs": [],
   "source": [
    "#Q3 Celsius to Fahrenheat conversion"
   ]
  },
  {
   "cell_type": "code",
   "execution_count": 2,
   "id": "4cd4052a-357a-4de0-9ca1-296d18df8399",
   "metadata": {},
   "outputs": [
    {
     "name": "stdin",
     "output_type": "stream",
     "text": [
      "Enter temperature in Celsius:  5\n"
     ]
    },
    {
     "name": "stdout",
     "output_type": "stream",
     "text": [
      "5.00°C is equal to 41.00°F\n"
     ]
    }
   ],
   "source": [
    "def Celsius_to_Fahrenheit(Celsius):\n",
    "    Fahrenheit = (((Celsius)*9/5)+32)\n",
    "    return Fahrenheit\n",
    "#Input the temperature in Celsius\n",
    "Celsius_temperature = float(input(\"Enter temperature in Celsius: \"))\n",
    "\n",
    "#Convert and print the result \n",
    "Fahrenheit_temperature = Celsius_to_Fahrenheit(Celsius_temperature)\n",
    "print(f\"{Celsius_temperature:.2f}°C is equal to {Fahrenheit_temperature:.2f}°F\")"
   ]
  },
  {
   "cell_type": "code",
   "execution_count": null,
   "id": "43fa0d5f-af1d-4aee-8c56-eb556868664c",
   "metadata": {},
   "outputs": [],
   "source": [
    "#Below String Based Questions"
   ]
  },
  {
   "cell_type": "code",
   "execution_count": null,
   "id": "1909494a-d755-47dc-a03c-3d16df2be14f",
   "metadata": {},
   "outputs": [],
   "source": [
    "#Q1"
   ]
  },
  {
   "cell_type": "code",
   "execution_count": 5,
   "id": "b0f29139-9c62-4b58-baca-ee1ca9259e0b",
   "metadata": {},
   "outputs": [
    {
     "name": "stdin",
     "output_type": "stream",
     "text": [
      " Manikanta\n"
     ]
    }
   ],
   "source": [
    "X=str(input())"
   ]
  },
  {
   "cell_type": "code",
   "execution_count": 6,
   "id": "f4fd4180-b7a1-4ede-beec-aefaf5f43de6",
   "metadata": {},
   "outputs": [
    {
     "data": {
      "text/plain": [
       "9"
      ]
     },
     "execution_count": 6,
     "metadata": {},
     "output_type": "execute_result"
    }
   ],
   "source": [
    "len(X)"
   ]
  },
  {
   "cell_type": "code",
   "execution_count": null,
   "id": "3bb5464a-f247-4dbc-b0c9-3e1847105b34",
   "metadata": {},
   "outputs": [],
   "source": [
    "#Q2"
   ]
  },
  {
   "cell_type": "code",
   "execution_count": 47,
   "id": "53532eb9-dd82-4259-9ddc-6878776ee725",
   "metadata": {},
   "outputs": [
    {
     "name": "stdin",
     "output_type": "stream",
     "text": [
      "Enter a senstence:   I have been a bad boy trying to be a good man my whole life\n"
     ]
    },
    {
     "name": "stdout",
     "output_type": "stream",
     "text": [
      "Number of vowels: 19\n"
     ]
    }
   ],
   "source": [
    "def count_vowels(sentence):\n",
    "    vowels = \"aeiouAEIOU\" # Include both Upper & Lower case\n",
    "    vowel_count=0\n",
    "    \n",
    "    for char in sentence:\n",
    "        if char in vowels:\n",
    "            vowel_count +=1\n",
    "            \n",
    "    return vowel_count \n",
    "\n",
    "user_sentence = input(\"Enter a senstence: \")\n",
    "num_vowels = count_vowels(user_sentence)\n",
    "print(\"Number of vowels:\", num_vowels)"
   ]
  },
  {
   "cell_type": "code",
   "execution_count": null,
   "id": "4257a95e-6670-4c37-8303-40ec2d7206bf",
   "metadata": {},
   "outputs": [],
   "source": [
    "#Q3"
   ]
  },
  {
   "cell_type": "code",
   "execution_count": 1,
   "id": "010a33da-767c-4b6f-9162-588eb5053039",
   "metadata": {},
   "outputs": [
    {
     "name": "stdout",
     "output_type": "stream",
     "text": [
      "Reversed string: ecalp lufiutaeb a si ilanaM ulluK\n"
     ]
    }
   ],
   "source": [
    "K=\"Kullu Manali is a beatuiful place\"\n",
    "\n",
    "def reversed_string(original_string):\n",
    "    reversed_str = original_string[::-1]\n",
    "    return reversed_str\n",
    "\n",
    "original_string = K\n",
    "reverse = reversed_string(original_string)\n",
    "                   \n",
    "print(\"Reversed string:\", reverse)"
   ]
  },
  {
   "cell_type": "code",
   "execution_count": null,
   "id": "0afd50cd-556d-46b7-b346-f8bd70cb134f",
   "metadata": {},
   "outputs": [],
   "source": [
    "#Q4"
   ]
  },
  {
   "cell_type": "code",
   "execution_count": 74,
   "id": "26674149-c94a-4ec8-af1b-385989b023e2",
   "metadata": {},
   "outputs": [
    {
     "name": "stdin",
     "output_type": "stream",
     "text": [
      "Enter the word:  lol\n"
     ]
    },
    {
     "name": "stdout",
     "output_type": "stream",
     "text": [
      "Reversed palindrome: lol\n",
      "This is a palindrome\n"
     ]
    }
   ],
   "source": [
    "def palindrome_reverse(palindrome_forward):\n",
    "    palindrome_reverse = (palindrome_forward[::-1])\n",
    "    return palindrome_reverse\n",
    "\n",
    "palindrome_forward = input(\"Enter the word: \")\n",
    "reversed_palindrome = palindrome_reverse(palindrome_forward)\n",
    "print(\"Reversed palindrome:\", reversed_palindrome)\n",
    "\n",
    "if palindrome_forward == reversed_palindrome:\n",
    "    print(\"This is a palindrome\")\n",
    "else:\n",
    "    print(\"This is not a palindrome\")"
   ]
  },
  {
   "cell_type": "code",
   "execution_count": 75,
   "id": "6c42a81c-cc21-4124-9380-31303f6438d4",
   "metadata": {},
   "outputs": [
    {
     "name": "stdin",
     "output_type": "stream",
     "text": [
      "Enter the word:  CIVIL\n"
     ]
    },
    {
     "name": "stdout",
     "output_type": "stream",
     "text": [
      "Reversed palindrome: LIVIC\n",
      "This is not a palindrome\n"
     ]
    }
   ],
   "source": [
    "def palindrome_reverse(palindrome_forward):\n",
    "    palindrome_reverse = (palindrome_forward[::-1])\n",
    "    return palindrome_reverse\n",
    "\n",
    "palindrome_forward = input(\"Enter the word: \")\n",
    "reversed_palindrome = palindrome_reverse(palindrome_forward)\n",
    "print(\"Reversed palindrome:\", reversed_palindrome)\n",
    "\n",
    "if palindrome_forward == reversed_palindrome:\n",
    "    print(\"This is a palindrome\")\n",
    "else:\n",
    "    print(\"This is not a palindrome\")"
   ]
  },
  {
   "cell_type": "code",
   "execution_count": 124,
   "id": "05ff24bd-f999-40e5-a987-14b00814da43",
   "metadata": {},
   "outputs": [
    {
     "name": "stdin",
     "output_type": "stream",
     "text": [
      "Enter string with some spaces : Create a program that takes a string as input and removes all the spaces from it. Print the modified string without spaces.\n"
     ]
    },
    {
     "name": "stdout",
     "output_type": "stream",
     "text": [
      "string without spaces: Createaprogramthattakesastringasinputandremovesallthespacesfromit.Printthemodifiedstringwithoutspaces.\n"
     ]
    }
   ],
   "source": [
    "def remove_space(string):\n",
    "    return string.replace(\" \", \"\")\n",
    "\n",
    "string = input(\"Enter string with some spaces :\" ,)\n",
    "string_withoutspace = remove_spaces(string)\n",
    "print(\"string without spaces:\" ,string_withoutspace)"
   ]
  },
  {
   "cell_type": "code",
   "execution_count": null,
   "id": "83ff0bbb-9e3e-43ab-981d-dc88685e890d",
   "metadata": {},
   "outputs": [],
   "source": []
  }
 ],
 "metadata": {
  "kernelspec": {
   "display_name": "Python 3 (ipykernel)",
   "language": "python",
   "name": "python3"
  },
  "language_info": {
   "codemirror_mode": {
    "name": "ipython",
    "version": 3
   },
   "file_extension": ".py",
   "mimetype": "text/x-python",
   "name": "python",
   "nbconvert_exporter": "python",
   "pygments_lexer": "ipython3",
   "version": "3.10.8"
  }
 },
 "nbformat": 4,
 "nbformat_minor": 5
}
